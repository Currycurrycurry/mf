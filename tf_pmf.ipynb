{
 "cells": [
  {
   "cell_type": "markdown",
   "metadata": {},
   "source": [
    "See https://papers.nips.cc/paper/3208-probabilistic-matrix-factorization.pdf"
   ]
  },
  {
   "cell_type": "markdown",
   "metadata": {},
   "source": [
    "Very much research code, absolutely no guarantees on anything"
   ]
  },
  {
   "cell_type": "markdown",
   "metadata": {},
   "source": [
    "### Imports"
   ]
  },
  {
   "cell_type": "code",
   "execution_count": 129,
   "metadata": {
    "collapsed": true
   },
   "outputs": [],
   "source": [
    "%matplotlib inline\n",
    "import tensorflow as tf\n",
    "import time\n",
    "import numpy as np\n",
    "import matplotlib.pyplot as plt"
   ]
  },
  {
   "cell_type": "markdown",
   "metadata": {},
   "source": [
    "### Global Constants"
   ]
  },
  {
   "cell_type": "code",
   "execution_count": 103,
   "metadata": {
    "collapsed": true
   },
   "outputs": [],
   "source": [
    "NUM_EPOCHS = 100\n",
    "BATCH_SIZE = 100000\n",
    "LEARNING_RATE = 0.00005\n",
    "MOMENTUM = 0.9\n",
    "REG_CONST = 0.001\n",
    "NUM_USERS = 480189\n",
    "NUM_MOVIES = 17770\n",
    "NUM_LATENT = 10\n",
    "TRAIN_DATA = '/data/lisatmp4/jethahan/datasets/nflx_full/tf/train.csv'\n",
    "VAL_DATA = '/data/lisatmp4/jethahan/datasets/nflx_full/tf/val.csv'\n",
    "TEST_DATA = '/data/lisatmp4/jethahan/datasets/nflx_full/tf/test.csv'"
   ]
  },
  {
   "cell_type": "code",
   "execution_count": 33,
   "metadata": {
    "collapsed": true
   },
   "outputs": [],
   "source": [
    "def get_data(filename):\n",
    "    arr = np.genfromtxt(filename, delimiter=',')\n",
    "    return arr"
   ]
  },
  {
   "cell_type": "markdown",
   "metadata": {},
   "source": [
    "### TF Disk Input (not used)"
   ]
  },
  {
   "cell_type": "code",
   "execution_count": 27,
   "metadata": {
    "collapsed": true
   },
   "outputs": [],
   "source": [
    "def read_csv_line(filename_queue):\n",
    "    reader = tf.TextLineReader()\n",
    "    key, value = reader.read(filename_queue)\n",
    "    record_defaults = [tf.constant([], dtype=tf.int32),\n",
    "                       tf.constant([], dtype=tf.int32),\n",
    "                       tf.constant([], dtype=tf.float32)]\n",
    "    user_id, movie_id, rating = tf.decode_csv(value, record_defaults=record_defaults)\n",
    "    return user_id, movie_id, rating\n",
    "\n",
    "def input_pipeline(filename, batch_size, num_epochs):\n",
    "    with tf.name_scope('input'):\n",
    "        filename_queue = tf.train.string_input_producer([filename], num_epochs=num_epochs)\n",
    "        user_id, movie_id, rating = read_csv_line(filename_queue)\n",
    "    \n",
    "        # min_after_dequeue defines how big a buffer we will randomly sample from.\n",
    "        # Bigger means better shuffling but slower start up and more memory used.\n",
    "        min_after_dequeue = 10000\n",
    "\n",
    "        # capacity must be larger than min_after_dequeue and the amount larger\n",
    "        # determines the maximum we will prefetch.  \n",
    "        #Recommendation: min_after_dequeue + (num_threads + a small safety margin) * batch_size\n",
    "        capacity = min_after_dequeue + 3 * batch_size\n",
    "\n",
    "        #user_id_batch, movie_id_batch, rating_batch = tf.train.shuffle_batch(\n",
    "        #  [user_id, movie_id, rating], batch_size=batch_size, capacity=capacity,\n",
    "        #  min_after_dequeue=min_after_dequeue)\n",
    "        \n",
    "        user_id_batch, movie_id_batch, rating_batch = tf.train.batch(\n",
    "         [user_id, movie_id, rating], batch_size=batch_size, capacity=capacity)\n",
    "    \n",
    "    return user_id_batch, movie_id_batch, rating_batch"
   ]
  },
  {
   "cell_type": "markdown",
   "metadata": {},
   "source": [
    "### Load data into memory"
   ]
  },
  {
   "cell_type": "code",
   "execution_count": 34,
   "metadata": {
    "collapsed": false
   },
   "outputs": [
    {
     "name": "stdout",
     "output_type": "stream",
     "text": [
      "loading train data into memory\n",
      "loaded train\n"
     ]
    }
   ],
   "source": [
    "print('loading train data into memory')\n",
    "train_data = get_data(TRAIN_DATA)\n",
    "print('loaded train')\n",
    "print('shuffling')\n",
    "np.random.shuffle(train_data)\n",
    "print('shuffled')\n",
    "train_users = train_data[:,0]\n",
    "train_movies = train_data[:,1]\n",
    "train_ratings = train_data[:,2]"
   ]
  },
  {
   "cell_type": "code",
   "execution_count": 35,
   "metadata": {
    "collapsed": false
   },
   "outputs": [
    {
     "name": "stdout",
     "output_type": "stream",
     "text": [
      "loading val data into memory\n",
      "loaded val\n"
     ]
    }
   ],
   "source": [
    "print('loading val data into memory')\n",
    "val_data = get_data(VAL_DATA)\n",
    "val_users = val_data[:,0]\n",
    "val_movies = val_data[:,1]\n",
    "val_ratings = val_data[:,2]\n",
    "print('loaded val')"
   ]
  },
  {
   "cell_type": "code",
   "execution_count": 106,
   "metadata": {
    "collapsed": false
   },
   "outputs": [
    {
     "name": "stdout",
     "output_type": "stream",
     "text": [
      "loading test data into memory\n",
      "loaded test\n"
     ]
    }
   ],
   "source": [
    "print('loading test data into memory')\n",
    "test_data = get_data(TEST_DATA)\n",
    "test_users = test_data[:,0]\n",
    "test_movies = test_data[:,1]\n",
    "test_ratings = test_data[:,2]\n",
    "print('loaded test')"
   ]
  },
  {
   "cell_type": "code",
   "execution_count": 60,
   "metadata": {
    "collapsed": false
   },
   "outputs": [],
   "source": [
    "# RESCALING\n",
    "\n",
    "#def rescale(x):\n",
    "    #return (x-1)/4\n",
    "\n",
    "#rescale = np.vectorize(rescale)\n",
    "\n",
    "#train_ratings = rescale(train_ratings)"
   ]
  },
  {
   "cell_type": "code",
   "execution_count": null,
   "metadata": {
    "collapsed": true
   },
   "outputs": [],
   "source": [
    "# MEAN SHIFTING\n",
    "\n",
    "#mean_rating = train_ratings.mean\n",
    "#train_ratings = train_ratings - mean_rating"
   ]
  },
  {
   "cell_type": "code",
   "execution_count": 111,
   "metadata": {
    "collapsed": true
   },
   "outputs": [],
   "source": [
    "rmses = []\n",
    "test_rmse = None\n",
    "total_time = None"
   ]
  },
  {
   "cell_type": "markdown",
   "metadata": {},
   "source": [
    "### Main TF loop"
   ]
  },
  {
   "cell_type": "code",
   "execution_count": null,
   "metadata": {
    "collapsed": false
   },
   "outputs": [
    {
     "name": "stdout",
     "output_type": "stream",
     "text": [
      "Graph Initialized\n",
      "** Starting training **\n",
      "Start time Wed Jun 29 19:26:23 2016\n",
      "inital RMSE: 3.765\n",
      "---- mid-epoch 0 -----\n",
      "rmse on val set: 1.676 --- (19.982 sec avg)\n",
      "---- mid-epoch 1 -----\n"
     ]
    }
   ],
   "source": [
    "def loss(users, user_embedding, movies, movie_embedding, ratings, reg_const):\n",
    "    latent_users = tf.nn.embedding_lookup(user_embedding, users)\n",
    "    latent_movies = tf.nn.embedding_lookup(movie_embedding, movies)\n",
    "    pred_ratings = tf.reduce_sum(tf.mul(latent_users, latent_movies), 1)\n",
    "    reg = tf.reduce_sum(tf.square(latent_users), 1) + tf.reduce_sum(tf.square(latent_movies), 1)\n",
    "    loss = tf.reduce_sum((tf.square(ratings - pred_ratings) + tf.mul(reg_const, reg)), 0)\n",
    "    \n",
    "    return loss\n",
    "\n",
    "def calc_rmse(users, user_embedding, movies, movie_embedding, ratings):\n",
    "    latent_users = tf.nn.embedding_lookup(user_embedding, users)\n",
    "    latent_movies = tf.nn.embedding_lookup(movie_embedding, movies)\n",
    "    pred_ratings = tf.reduce_sum(tf.mul(latent_users, latent_movies), 1)\n",
    "    rmse = tf.sqrt(tf.reduce_mean(tf.square(ratings - pred_ratings)))\n",
    "    \n",
    "    return rmse\n",
    "\n",
    "def get_batch(data_arr, batch_size, batch_ix):\n",
    "    return data_arr[batch_ix * batch_size : (batch_ix + 1) * batch_size]\n",
    "\n",
    "graph = tf.Graph()\n",
    "\n",
    "with graph.as_default():\n",
    "    \n",
    "    # Reading from files on disk (see above...)\n",
    "    #user_ids, movie_ids, ratings = input_pipeline(TRAIN_DATA,\n",
    "                                                 # batch_size=BATCH_SIZE,\n",
    "                                                 # num_epochs=NUM_EPOCHS)\n",
    "    \n",
    "    users = tf.placeholder(tf.int32)\n",
    "    movies = tf.placeholder(tf.int32)\n",
    "    ratings = tf.placeholder(tf.float32)\n",
    "    \n",
    "    reg_const = tf.constant(REG_CONST)\n",
    "\n",
    "    # User/item embedding matrices (initialized to normal noise)\n",
    "    user_embedding = tf.Variable(tf.mul(0.1, tf.random_normal([NUM_USERS, NUM_LATENT], 0, 1)), name=\"U\")\n",
    "    movie_embedding = tf.Variable(tf.mul(0.1, tf.random_normal([NUM_MOVIES, NUM_LATENT], 0, 1)), name=\"V\")\n",
    "\n",
    "    loss = loss(users, user_embedding, movies, movie_embedding, ratings, reg_const)\n",
    "    \n",
    "    #train_op = tf.train.GradientDescentOptimizer(LEARNING_RATE).minimize(loss)\n",
    "    train_op = tf.train.MomentumOptimizer(LEARNING_RATE, MOMENTUM).minimize(loss)\n",
    "    \n",
    "    rmse = calc_rmse(users, user_embedding, movies, movie_embedding, ratings)\n",
    "\n",
    "    init_op = tf.initialize_all_variables()\n",
    "\n",
    "    #sess = tf.Session(config=tf.ConfigProto(log_device_placement=True))\n",
    "    \n",
    "    sess = tf.Session()\n",
    "    sess.run(init_op)\n",
    "    print('Graph Initialized')\n",
    "    \n",
    "    # Start input enqueue threads (overkill without disk input)\n",
    "    coord = tf.train.Coordinator()\n",
    "    threads = tf.train.start_queue_runners(sess=sess, coord=coord)\n",
    "\n",
    "    try:\n",
    "        \n",
    "        print('** Starting training **')\n",
    "        \n",
    "        print('Start time %s' % time.asctime(time.localtime(time.time())))\n",
    "        start_time = time.time()\n",
    "        \n",
    "        step = 0\n",
    "        epoch = 0\n",
    "        \n",
    "        rmse_val = sess.run([rmse], feed_dict={users: get_batch(val_users, 8038203, 0),\n",
    "                                                                  movies: get_batch(val_movies, 8038203, 0),\n",
    "                                                                  ratings: get_batch(val_ratings, 8038203, 0)})\n",
    "        \n",
    "        rmses.append(rmse_val[0])\n",
    "        print('inital RMSE: %.3f' % rmse_val[0])\n",
    "        \n",
    "        while not coord.should_stop():\n",
    "\n",
    "            _, loss_value = sess.run([train_op, loss], feed_dict={users: get_batch(train_users, BATCH_SIZE, step),\n",
    "                                                                  movies: get_batch(train_movies, BATCH_SIZE, step),\n",
    "                                                                  ratings: get_batch(train_ratings, BATCH_SIZE, step)})\n",
    "            \n",
    "            \n",
    "            step += 1\n",
    "            \n",
    "            # Hackish...clean up\n",
    "            if step % 362 == 0:\n",
    "                print('---- mid-epoch %d -----' % epoch)\n",
    "            \n",
    "            if step % 723 == 0:\n",
    "                # End of training set\n",
    "                rmse_val = sess.run([rmse], feed_dict={users: get_batch(val_users, 8038203, 0),\n",
    "                                                                  movies: get_batch(val_movies, 8038203, 0),\n",
    "                                                                  ratings: get_batch(val_ratings, 8038203, 0)})\n",
    "                \n",
    "                rmses.append(rmse_val[0])\n",
    "                duration = time.time() - start_time\n",
    "                print(\"rmse on val set: %.3f --- (%.3f sec avg)\" % (rmse_val[0], (duration/(epoch+1))))\n",
    "                step = 0\n",
    "                epoch += 1\n",
    "            \n",
    "            if epoch == 100:\n",
    "                rmse_test = sess.run([rmse], feed_dict={users: get_batch(test_users, 20095624, 0),\n",
    "                                                                  movies: get_batch(test_movies, 20095624, 0),\n",
    "                                                                  ratings: get_batch(test_ratings, 20095624, 0)})\n",
    "                test_rmse = rmse_test[0]\n",
    "                print(\"rmse on test: %.3f\" % test_rmse )\n",
    "                total_time  = time.time() - start_time\n",
    "                print(\"total time: %.3f\" % total_time)\n",
    "                break\n",
    "                \n",
    "                \n",
    "    except tf.errors.OutOfRangeError:\n",
    "        print('Done training for %d epochs, %d steps.' % (NUM_EPOCHS, step))\n",
    "\n",
    "    finally:\n",
    "        # When done, ask the threads to stop.\n",
    "        coord.request_stop()\n",
    "\n",
    "    # Wait for threads to finish.\n",
    "    coord.join(threads)\n",
    "    sess.close()"
   ]
  },
  {
   "cell_type": "markdown",
   "metadata": {},
   "source": [
    "### Results"
   ]
  },
  {
   "cell_type": "code",
   "execution_count": 150,
   "metadata": {
    "collapsed": false
   },
   "outputs": [
    {
     "name": "stdout",
     "output_type": "stream",
     "text": [
      "last val rmse (epoch 100): 0.8444\n",
      "test rmse: 0.8437\n",
      "total time: 32 min 46.126 sec\n",
      "avg epoch time: 19.460 sec\n"
     ]
    }
   ],
   "source": [
    "print(\"last val rmse (epoch 100): %.4f\" % rmses[-1])\n",
    "print(\"test rmse: %.4f\" % test_rmse)\n",
    "print(\"total time: %d min %.3f sec\" % (int(total_time/60), total_time%60))\n",
    "print(\"avg epoch time: %.3f sec\" % (duration/(epoch+1)))"
   ]
  },
  {
   "cell_type": "code",
   "execution_count": 143,
   "metadata": {
    "collapsed": false
   },
   "outputs": [
    {
     "data": {
      "image/png": "[encoded data removed]",
      "text/plain": [
       "<matplotlib.figure.Figure at 0x7f11ec0552e8>"
      ]
     },
     "metadata": {},
     "output_type": "display_data"
    }
   ],
   "source": [
    "epochs = np.arange(101)\n",
    "plt.plot(epochs, rmses, '-o')\n",
    "plt.show()"
   ]
  },
  {
   "cell_type": "code",
   "execution_count": 144,
   "metadata": {
    "collapsed": false
   },
   "outputs": [
    {
     "data": {
      "image/png": "[encoded data removed]",
      "text/plain": [
       "<matplotlib.figure.Figure at 0x7f11e4e733c8>"
      ]
     },
     "metadata": {},
     "output_type": "display_data"
    }
   ],
   "source": [
    "plt.plot(epochs[:50], rmses[:50], '-o')\n",
    "plt.show()"
   ]
  },
  {
   "cell_type": "markdown",
   "metadata": {},
   "source": [
    "todo: bias terms... compare perf., etc."
   ]
  }
 ],
 "metadata": {
  "kernelspec": {
   "display_name": "Python 3",
   "language": "python",
   "name": "python3"
  },
  "language_info": {
   "codemirror_mode": {
    "name": "ipython",
    "version": 3
   },
   "file_extension": ".py",
   "mimetype": "text/x-python",
   "name": "python",
   "nbconvert_exporter": "python",
   "pygments_lexer": "ipython3",
   "version": "3.5.1"
  }
 },
 "nbformat": 4,
 "nbformat_minor": 0
}
