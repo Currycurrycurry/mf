{
 "cells": [
  {
   "cell_type": "markdown",
   "metadata": {},
   "source": [
    "## Generate Train/Test/Val Splits"
   ]
  },
  {
   "cell_type": "code",
   "execution_count": 27,
   "metadata": {
    "collapsed": true
   },
   "outputs": [],
   "source": [
    "import h5py\n",
    "import sys\n",
    "import gc\n",
    "import os\n",
    "import pandas as pd\n",
    "import numpy as np"
   ]
  },
  {
   "cell_type": "code",
   "execution_count": 2,
   "metadata": {
    "collapsed": true
   },
   "outputs": [],
   "source": [
    "OUT_DIR = '/data/lisatmp4/jethahan/datasets/nflx_full/tf/'"
   ]
  },
  {
   "cell_type": "code",
   "execution_count": 3,
   "metadata": {
    "collapsed": true
   },
   "outputs": [],
   "source": [
    "def load_data(fn):\n",
    "    ds = h5py.File(fn,'r')\n",
    "    print('Loading data into memory')\n",
    "    # Load entire ds into memory\n",
    "    data_arr = ds['nflx_full'][()]\n",
    "    return data_arr"
   ]
  },
  {
   "cell_type": "code",
   "execution_count": 4,
   "metadata": {
    "collapsed": false
   },
   "outputs": [
    {
     "name": "stdout",
     "output_type": "stream",
     "text": [
      "Loading data into memory\n"
     ]
    }
   ],
   "source": [
    "# load the data into memory\n",
    "ds = load_data('/data/lisatmp4/jethahan/datasets/nflx_full/nflx_full.h5')\n",
    "df = pd.DataFrame(ds)\n",
    "ds = None\n",
    "# explicitly freee np array memory\n",
    "_ = gc.collect()"
   ]
  },
  {
   "cell_type": "code",
   "execution_count": 5,
   "metadata": {
    "collapsed": false
   },
   "outputs": [
    {
     "data": {
      "text/html": [
       "<div>\n",
       "<table border=\"1\" class=\"dataframe\">\n",
       "  <thead>\n",
       "    <tr style=\"text-align: right;\">\n",
       "      <th></th>\n",
       "      <th>user_id</th>\n",
       "      <th>movie_id</th>\n",
       "      <th>rating</th>\n",
       "    </tr>\n",
       "  </thead>\n",
       "  <tbody>\n",
       "    <tr>\n",
       "      <th>0</th>\n",
       "      <td>1228213.0</td>\n",
       "      <td>10817.0</td>\n",
       "      <td>5.0</td>\n",
       "    </tr>\n",
       "    <tr>\n",
       "      <th>1</th>\n",
       "      <td>2032427.0</td>\n",
       "      <td>10817.0</td>\n",
       "      <td>5.0</td>\n",
       "    </tr>\n",
       "    <tr>\n",
       "      <th>2</th>\n",
       "      <td>476805.0</td>\n",
       "      <td>10817.0</td>\n",
       "      <td>2.0</td>\n",
       "    </tr>\n",
       "    <tr>\n",
       "      <th>3</th>\n",
       "      <td>503548.0</td>\n",
       "      <td>10817.0</td>\n",
       "      <td>5.0</td>\n",
       "    </tr>\n",
       "    <tr>\n",
       "      <th>4</th>\n",
       "      <td>2236799.0</td>\n",
       "      <td>10817.0</td>\n",
       "      <td>3.0</td>\n",
       "    </tr>\n",
       "  </tbody>\n",
       "</table>\n",
       "</div>"
      ],
      "text/plain": [
       "     user_id  movie_id  rating\n",
       "0  1228213.0   10817.0     5.0\n",
       "1  2032427.0   10817.0     5.0\n",
       "2   476805.0   10817.0     2.0\n",
       "3   503548.0   10817.0     5.0\n",
       "4  2236799.0   10817.0     3.0"
      ]
     },
     "execution_count": 5,
     "metadata": {},
     "output_type": "execute_result"
    }
   ],
   "source": [
    "df.columns = ['user_id', 'movie_id', 'rating']\n",
    "df.head()"
   ]
  },
  {
   "cell_type": "code",
   "execution_count": 6,
   "metadata": {
    "collapsed": false
   },
   "outputs": [
    {
     "name": "stdout",
     "output_type": "stream",
     "text": [
      "sparsity  1.18%\n"
     ]
    }
   ],
   "source": [
    "# Calculate sparsity\n",
    "unique_user_ids = sorted(pd.unique(df['user_id']))\n",
    "unique_movie_ids = sorted(pd.unique(df['movie_id']))\n",
    "num_users = len(unique_user_ids)\n",
    "num_movies = len(unique_movie_ids)\n",
    "sparsity = (df.shape[0] / (num_users*num_movies))*100\n",
    "print(\"sparsity  %.2f% %\" % sparsity)"
   ]
  },
  {
   "cell_type": "code",
   "execution_count": 7,
   "metadata": {
    "collapsed": false
   },
   "outputs": [],
   "source": [
    "# Reindex users & movies\n",
    "uid2uix = dict((user_id, ix) for (ix, user_id) in enumerate(unique_user_ids))\n",
    "mid2mix = dict((movie_id, ix) for (ix, movie_id) in enumerate(unique_movie_ids))"
   ]
  },
  {
   "cell_type": "code",
   "execution_count": 8,
   "metadata": {
    "collapsed": false
   },
   "outputs": [],
   "source": [
    "# Generate train & test DFs\n",
    "np.random.seed(12345)\n",
    "num_ratings = df.shape[0]\n",
    "test_ixs = np.random.choice(num_ratings, size=int(0.20 * num_ratings), replace=False)\n",
    "test_mask = np.zeros(num_ratings, dtype=bool)\n",
    "test_mask[test_ixs] = True\n",
    "test_df = df[test_mask]\n",
    "train_df = df[~test_mask]"
   ]
  },
  {
   "cell_type": "code",
   "execution_count": 9,
   "metadata": {
    "collapsed": false
   },
   "outputs": [
    {
     "name": "stdout",
     "output_type": "stream",
     "text": [
      "USERS:\n",
      "train_unique: 479844\n",
      "full_unique 480189\n"
     ]
    }
   ],
   "source": [
    "# Data validation checks\n",
    "print(\"USERS:\\ntrain_unique: %d\\nfull_unique %d\" % (len(pd.unique(train_df['user_id'])), len(pd.unique(df['user_id']))))"
   ]
  },
  {
   "cell_type": "code",
   "execution_count": 10,
   "metadata": {
    "collapsed": false
   },
   "outputs": [
    {
     "name": "stdout",
     "output_type": "stream",
     "text": [
      "MOVIES:\n",
      "train_unique: 17770\n",
      "full_unique 17770\n"
     ]
    }
   ],
   "source": [
    "print(\"MOVIES:\\ntrain_unique: %d\\nfull_unique %d\" % (len(pd.unique(train_df['movie_id'])), len(pd.unique(df['movie_id']))))"
   ]
  },
  {
   "cell_type": "code",
   "execution_count": 11,
   "metadata": {
    "collapsed": false
   },
   "outputs": [],
   "source": [
    "# Find user_ids not in train set\n",
    "train_ids = set(pd.unique(train_df['user_id'])) \n",
    "all_ids = set(pd.unique(df['user_id']))\n",
    "move_ids = all_ids - train_ids\n",
    "move_ixs = test_df['user_id'].isin(move_ids)\n",
    "train_df = train_df.append(test_df[move_ixs])\n",
    "test_df = test_df[~move_ixs]"
   ]
  },
  {
   "cell_type": "code",
   "execution_count": 12,
   "metadata": {
    "collapsed": false
   },
   "outputs": [
    {
     "name": "stdout",
     "output_type": "stream",
     "text": [
      "USERS:\n",
      "train_unique: 480189\n",
      "full_unique 480189\n"
     ]
    }
   ],
   "source": [
    "print(\"USERS:\\ntrain_unique: %d\\nfull_unique %d\" % (len(pd.unique(train_df['user_id'])), len(pd.unique(df['user_id']))))"
   ]
  },
  {
   "cell_type": "code",
   "execution_count": 13,
   "metadata": {
    "collapsed": false
   },
   "outputs": [
    {
     "name": "stdout",
     "output_type": "stream",
     "text": [
      "MOVIES:\n",
      "train_unique: 17770\n",
      "full_unique 17770\n"
     ]
    }
   ],
   "source": [
    "print(\"MOVIES:\\ntrain_unique: %d\\nfull_unique %d\" % (len(pd.unique(train_df['movie_id'])), len(pd.unique(df['movie_id']))))"
   ]
  },
  {
   "cell_type": "code",
   "execution_count": 14,
   "metadata": {
    "collapsed": true
   },
   "outputs": [],
   "source": [
    "# Create validation set\n",
    "np.random.seed(138238)\n",
    "num_ratings = train_df.shape[0]\n",
    "val_ixs = np.random.choice(num_ratings, size=int(0.10 * num_ratings), replace=False)\n",
    "val_mask = np.zeros(num_ratings, dtype=bool)\n",
    "val_mask[val_ixs] = True\n",
    "val_df = train_df[val_mask]\n",
    "train_df = train_df[~val_mask]"
   ]
  },
  {
   "cell_type": "code",
   "execution_count": 15,
   "metadata": {
    "collapsed": false
   },
   "outputs": [
    {
     "name": "stdout",
     "output_type": "stream",
     "text": [
      "USERS:\n",
      "train_unique: 479935\n",
      "full_unique 480189\n"
     ]
    }
   ],
   "source": [
    "print(\"USERS:\\ntrain_unique: %d\\nfull_unique %d\" % (len(pd.unique(train_df['user_id'])), len(pd.unique(df['user_id']))))"
   ]
  },
  {
   "cell_type": "code",
   "execution_count": 16,
   "metadata": {
    "collapsed": false
   },
   "outputs": [
    {
     "name": "stdout",
     "output_type": "stream",
     "text": [
      "MOVIES:\n",
      "train_unique: 17770\n",
      "full_unique 17770\n"
     ]
    }
   ],
   "source": [
    "print(\"MOVIES:\\ntrain_unique: %d\\nfull_unique %d\" % (len(pd.unique(train_df['movie_id'])), len(pd.unique(df['movie_id']))))"
   ]
  },
  {
   "cell_type": "code",
   "execution_count": 17,
   "metadata": {
    "collapsed": true
   },
   "outputs": [],
   "source": [
    "# Find user_ids not in train set\n",
    "train_ids = set(pd.unique(train_df['user_id'])) \n",
    "all_ids = set(pd.unique(df['user_id']))\n",
    "move_ids = all_ids - train_ids\n",
    "move_ixs = val_df['user_id'].isin(move_ids)\n",
    "train_df = train_df.append(val_df[move_ixs])\n",
    "val_df = val_df[~move_ixs]"
   ]
  },
  {
   "cell_type": "code",
   "execution_count": 18,
   "metadata": {
    "collapsed": false
   },
   "outputs": [
    {
     "name": "stdout",
     "output_type": "stream",
     "text": [
      "USERS:\n",
      "train_unique: 480189\n",
      "full_unique 480189\n"
     ]
    }
   ],
   "source": [
    "print(\"USERS:\\ntrain_unique: %d\\nfull_unique %d\" % (len(pd.unique(train_df['user_id'])), len(pd.unique(df['user_id']))))"
   ]
  },
  {
   "cell_type": "code",
   "execution_count": 19,
   "metadata": {
    "collapsed": false
   },
   "outputs": [
    {
     "name": "stdout",
     "output_type": "stream",
     "text": [
      "MOVIES:\n",
      "train_unique: 17770\n",
      "full_unique 17770\n"
     ]
    }
   ],
   "source": [
    "print(\"MOVIES:\\ntrain_unique: %d\\nfull_unique %d\" % (len(pd.unique(train_df['movie_id'])), len(pd.unique(df['movie_id']))))"
   ]
  },
  {
   "cell_type": "code",
   "execution_count": 20,
   "metadata": {
    "collapsed": false,
    "scrolled": true
   },
   "outputs": [],
   "source": [
    "map_user_ids = list(map(lambda x: uid2uix[x], train_df['user_id']))\n",
    "map_movie_ids = list(map(lambda x: mid2mix[x], train_df['movie_id']))\n",
    "train_df['user_id'] = map_user_ids\n",
    "train_df['movie_id'] = map_movie_ids"
   ]
  },
  {
   "cell_type": "code",
   "execution_count": 21,
   "metadata": {
    "collapsed": true
   },
   "outputs": [],
   "source": [
    "map_user_ids = list(map(lambda x: uid2uix[x], test_df['user_id']))\n",
    "map_movie_ids = list(map(lambda x: mid2mix[x], test_df['movie_id']))\n",
    "test_df['user_id'] = map_user_ids\n",
    "test_df['movie_id'] = map_movie_ids"
   ]
  },
  {
   "cell_type": "code",
   "execution_count": 22,
   "metadata": {
    "collapsed": true
   },
   "outputs": [],
   "source": [
    "map_user_ids = list(map(lambda x: uid2uix[x], val_df['user_id']))\n",
    "map_movie_ids = list(map(lambda x: mid2mix[x], val_df['movie_id']))\n",
    "val_df['user_id'] = map_user_ids\n",
    "val_df['movie_id'] = map_movie_ids"
   ]
  },
  {
   "cell_type": "code",
   "execution_count": 28,
   "metadata": {
    "collapsed": false
   },
   "outputs": [],
   "source": [
    "train_df.to_csv(os.path.join(OUT_DIR, 'train.csv'), index=False)"
   ]
  },
  {
   "cell_type": "code",
   "execution_count": 29,
   "metadata": {
    "collapsed": true
   },
   "outputs": [],
   "source": [
    "test_df.to_csv(os.path.join(OUT_DIR, 'test.csv'), index=False)"
   ]
  },
  {
   "cell_type": "code",
   "execution_count": 30,
   "metadata": {
    "collapsed": true
   },
   "outputs": [],
   "source": [
    "val_df.to_csv(os.path.join(OUT_DIR, 'val.csv'), index=False)"
   ]
  }
 ],
 "metadata": {
  "kernelspec": {
   "display_name": "Python 3",
   "language": "python",
   "name": "python3"
  },
  "language_info": {
   "codemirror_mode": {
    "name": "ipython",
    "version": 3
   },
   "file_extension": ".py",
   "mimetype": "text/x-python",
   "name": "python",
   "nbconvert_exporter": "python",
   "pygments_lexer": "ipython3",
   "version": "3.5.1"
  }
 },
 "nbformat": 4,
 "nbformat_minor": 0
}
